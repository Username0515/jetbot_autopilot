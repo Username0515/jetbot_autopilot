{
  "nbformat": 4,
  "nbformat_minor": 0,
  "metadata": {
    "colab": {
      "name": "image",
      "provenance": [],
      "collapsed_sections": [],
      "mount_file_id": "1mVufDm7CsoM25265X4yq4i9iWlW2CHuP",
      "authorship_tag": "ABX9TyOYSWK+DauAj/6od1RVTeNN",
      "include_colab_link": true
    },
    "kernelspec": {
      "name": "python3",
      "display_name": "Python 3"
    },
    "language_info": {
      "name": "python"
    }
  },
  "cells": [
    {
      "cell_type": "markdown",
      "metadata": {
        "id": "view-in-github",
        "colab_type": "text"
      },
      "source": [
        "<a href=\"https://colab.research.google.com/github/Username0515/jetbot_autopilot/blob/2021-07-21-1/image.ipynb\" target=\"_parent\"><img src=\"https://colab.research.google.com/assets/colab-badge.svg\" alt=\"Open In Colab\"/></a>"
      ]
    },
    {
      "cell_type": "code",
      "metadata": {
        "colab": {
          "base_uri": "https://localhost:8080/",
          "height": 172
        },
        "id": "x8mG_H7sKEaP",
        "outputId": "18e7a27e-ed18-4943-b2df-556aaff20dd9"
      },
      "source": [
        "import cv2\n",
        "from matplotlib import pyplot as plt\n",
        "import sys\n",
        "road_partical=[]\n",
        "\n",
        "\n",
        "src = cv2.imread(\"/content/photo/road_1.png\", cv2.IMREAD_COLOR)\n",
        "\n",
        "\n",
        "if src is None:\n",
        "    print('Image load failed!')\n",
        "    sys.exit()\n",
        "\n",
        "black_src = cv2.imread(\"/content/photo/black_background.png\", cv2.IMREAD_COLOR)\n",
        "src2 = cv2.resize(src, dsize=(120, 120))\n",
        "black_src2 = cv2.resize(black_src, dsize=(120, 120)) \n",
        "dst = cv2.Canny(src2, 30, 200)                       #임계값은 시험적으로       \n",
        "\n",
        "contours, hierarchy = cv2.findContours(dst, cv2.RETR_CCOMP, cv2.CHAIN_APPROX_NONE)\n",
        "i=0\n",
        "print(len(contours))\n",
        "\n",
        "#각 요소 보기\n",
        "for cnt in contours[:]:\n",
        "    #if len(cnt) >=20:\n",
        "      cv2.drawContours(black_src2, [cnt], 0, (255, 255, 255), 1)     \n",
        "      # black_src2 = cv2.resize(black_src, dsize=(120, 120))          #하나씩만 검출시\n",
        "      i+=1\n",
        "plt.imshow(black_src2)\n",
        "plt.title(\"Total image  :::: num of partical {}\".format(i))\n",
        "plt.show()\n",
        "\n",
        "import glob\n",
        "road_data = [cv2.imread(file) for file in glob.glob(\"path/to/files/*.png\")]\n",
        "\n",
        "\n",
        "contours_with_filter=[]\n",
        "i=0\n",
        "numoftime=0\n",
        "\n",
        "for cnt in contours:\n",
        "    if len(cnt) >=20: #잡영제거 \n",
        "      black_src2 = cv2.resize(black_src, dsize=(120, 120))\n",
        "      \n",
        "      contours_with_filter.append(cnt)\n",
        "      cv2.drawContours(black_src2, [cnt], 0, (255, 255, 255), 1)     \n",
        "      plt.imshow(black_src2)\n",
        "      plt.suptitle(\"num of partical ::{}\".format(i))\n",
        "      plt.title(\"size of contour :: {}\".format(len(cnt)))\n",
        "      plt.show() \n",
        "      road_partical.append(black_src2)\n",
        "      \n",
        "      #저장하기\n",
        "      # cv2.imwrite('/content/photo/road_partical_{}_{}.png'.format(numoftime,i), black_src2)\n",
        "      i+=1\n",
        "\n",
        "\n",
        "\n",
        "#마지막만 보기\n",
        "\n",
        "\"\"\"  \n",
        "for cnt in contours[:]:\n",
        "    cv2.drawContours(black_src2, [cnt], 0, (255, 255, 255), 1)     \n",
        "    # black_src2 = cv2.resize(black_src, dsize=(120, 120))          #하나씩만 검출시\n",
        "    i+=1\n",
        "plt.imshow(black_src2)\n",
        "plt.title(i)\n",
        "plt.show()\n",
        "\"\"\""
      ],
      "execution_count": null,
      "outputs": [
        {
          "output_type": "stream",
          "text": [
            "Image load failed!\n"
          ],
          "name": "stdout"
        },
        {
          "output_type": "error",
          "ename": "SystemExit",
          "evalue": "ignored",
          "traceback": [
            "An exception has occurred, use %tb to see the full traceback.\n",
            "\u001b[0;31mSystemExit\u001b[0m\n"
          ]
        },
        {
          "output_type": "stream",
          "text": [
            "/usr/local/lib/python3.7/dist-packages/IPython/core/interactiveshell.py:2890: UserWarning: To exit: use 'exit', 'quit', or Ctrl-D.\n",
            "  warn(\"To exit: use 'exit', 'quit', or Ctrl-D.\", stacklevel=1)\n"
          ],
          "name": "stderr"
        }
      ]
    },
    {
      "cell_type": "code",
      "metadata": {
        "id": "r7VckCLFssuU"
      },
      "source": [
        ""
      ],
      "execution_count": null,
      "outputs": []
    },
    {
      "cell_type": "markdown",
      "metadata": {
        "id": "mLCOCLu-QhZm"
      },
      "source": [
        "# 드라이브 마운트"
      ]
    },
    {
      "cell_type": "code",
      "metadata": {
        "colab": {
          "base_uri": "https://localhost:8080/"
        },
        "id": "vhVjLShMx-Sk",
        "outputId": "84eeb58f-4366-4438-bac7-e9a202fa791a"
      },
      "source": [
        "from google.colab import drive\n",
        "drive.mount('/content/gdrive')\n"
      ],
      "execution_count": null,
      "outputs": [
        {
          "output_type": "stream",
          "text": [
            "Mounted at /content/gdrive\n"
          ],
          "name": "stdout"
        }
      ]
    },
    {
      "cell_type": "markdown",
      "metadata": {
        "id": "1PJ8bq66sxCs"
      },
      "source": [
        "# 이미지 파일 읽고 요소 저장하기"
      ]
    },
    {
      "cell_type": "code",
      "metadata": {
        "colab": {
          "base_uri": "https://localhost:8080/",
          "height": 190
        },
        "id": "Ga58DmKLs50e",
        "outputId": "3a6fc404-1293-47cf-d372-44671b5c3e4a"
      },
      "source": [
        "import sys\n",
        "import cv2\n",
        "from matplotlib import pyplot as plt\n",
        "import glob\n",
        "import time\n",
        "\n",
        "data_file_path = \"/content/gdrive/MyDrive/photo/roaddata/*.jpg\"  #데이터 이미지 들어있는곳\n",
        "black_background_path =\"/content/gdrive/MyDrive/photo/black_background/black_background.png\" #검정색 사진 들어있는곳\n",
        "# roi_data_path ='/content/gdrive/MyDrive/photo/photo_slice/road_partical_data_{}.png'.format(numoftime)\n",
        "\n",
        "\n",
        "\n",
        "size_pixel=128\n",
        "\n",
        "\n",
        "\n",
        "i=0\n",
        "for _ in glob.glob(data_file_path):\n",
        "     i+=1\n",
        "print(\"현재 파일 개수 :::  {} 개\".format(i))\n",
        "\n",
        "numoffile=i\n",
        "\n",
        "src=[]\n",
        "src_color=[]\n",
        "i=0\n",
        "for file in glob.glob(data_file_path):\n",
        "     img=cv2.imread(str(file))\n",
        "     img_color = img\n",
        "     img=cv2.cvtColor(img,cv2.COLOR_BGR2GRAY)                         \n",
        "     img_color =cv2.resize(img_color,(size_pixel,size_pixel))\n",
        "     img=cv2.resize(img,(size_pixel,size_pixel))\n",
        "     src.append(img)\n",
        "     src_color.append(img_color)\n",
        "     i+=1\n",
        "     print(\" 파일 읽어오는중 :::  {} %\".format(   round(100 * (i/numoffile)))    )\n",
        "\n",
        "road_partical=[]\n",
        "\n",
        "\n",
        "if  src is None:\n",
        "    print('Image load src failed!')\n",
        "    sys.exit()\n",
        "\n",
        "\n",
        "black_src = cv2.imread(black_background_path, cv2.IMREAD_GRAYSCALE)\n",
        "\n",
        "if  black_src is None:\n",
        "    print('Image load black_src failed!')\n",
        "    sys.exit()\n",
        "\n",
        "black_src2 = cv2.resize(black_src, dsize=(size_pixel, size_pixel)) \n",
        "black_src2_save = black_src2\n",
        "\n",
        "numoftime=0\n",
        "\n",
        "length_data = len(src)\n",
        "\n",
        "for aa,bb in zip(src,src_color):\n",
        "    src2 = cv2.resize(aa, dsize=(size_pixel, size_pixel))\n",
        "    dst = cv2.Canny(src2, 50, 200)                       #임계값은 시험적으로       \n",
        "    contours, hierarchy = cv2.findContours(dst, cv2.RETR_CCOMP, cv2.CHAIN_APPROX_NONE)  #경계선 검출\n",
        "\n",
        "    \n",
        "\n",
        "    \n",
        "    i=0\n",
        "\n",
        "    a=0\n",
        "    \n",
        "    print(\"현재 파일 개수 ::: {}\".format(length_data))\n",
        "    print(\"분리 진행 중 .... ::: {} % \".format(   round( 100*(numoftime/length_data)   )    )   )\n",
        "    \n",
        "\n",
        "    print(\"전체 경계선 개수  :  {}\".format(len(contours)))\n",
        "    for cnt in contours:\n",
        "        x,y,w,h = cv2.boundingRect(cnt)\n",
        "        if  w>10 and h >10  and y> 10  : #잡영제거 된 개수 \n",
        "          a = a+1\n",
        "    print(\"필터링된 경계선 개수 : {}\".format(a))\n",
        "    \n",
        "\n",
        "\n",
        "    plt.title(numoftime)\n",
        "    plt.imshow(dst,cmap='gray')  \n",
        "    plt.show()            #필터링(잡영 제거 X)  사진 보여줌\n",
        "\n",
        "\n",
        "    cv2.imwrite('/content/gdrive/MyDrive/photo/photo_filter/photo_{}.png'.format(numoftime), dst)   #필터링된 전체사진 저장\n",
        "         \n",
        "\n",
        "    contours_with_filter=[]\n",
        "\n",
        "    i=0\n",
        "    for cnt in contours:\n",
        "        x,y,w,h = cv2.boundingRect(cnt)\n",
        "\n",
        "        if  w>5 and h >10  and y> 10:    #잡영제거 조건\n",
        "\n",
        "            black_src2 = cv2.resize(black_src, dsize=(size_pixel, size_pixel))\n",
        "            \n",
        "            src2_slice = bb[y:y+h, x:x+w] # 원본사진에서 특정부분만 자르기  \n",
        "\n",
        "            src2_slice_resize = cv2.resize(src2_slice, (size_pixel, size_pixel), interpolation = cv2.INTER_LINEAR )\n",
        "\n",
        "            contours_with_filter.append(cnt)        #숫자형태로 경계선 리스트만들기\n",
        "\n",
        "            cv2.drawContours(black_src2, [cnt], 0, (255, 255, 255), 1)     # 검정배경에 경계선 그리기\n",
        "            \n",
        "            cv2.drawContours(black_src2_save, [cnt], 0, (255, 255, 255), 1)\n",
        "            \n",
        "            # plt.imshow(black_src2)\n",
        "            # plt.suptitle(\"num of partical ::{}\".format(i))\n",
        "            # plt.title(\"size of contour :: {}\".format(len(cnt)))\n",
        "            # plt.show()                                                        # part 보여주는 코드\n",
        "\n",
        "\n",
        "            road_partical.append(black_src2)\n",
        "  \n",
        "            #저장하기\n",
        "            cv2.imwrite('/content/gdrive/MyDrive/photo/photo_part/road_partical_data_{}_{}_{}::{}::{}::{}.png'.format(numoftime,i,x,y,w,h), black_src2)    # 필터 적용된 전체 사진 저장\n",
        "            cv2.imwrite('/content/gdrive/MyDrive/photo/photo_slice/road_roi_data_{}_{}_{}::{}::{}::{}.png'.format(numoftime,i,x,y,w,h ),src2_slice_resize)   #흑백사진으로 슬라이싱된 사진 저장\n",
        "            i+=1\n",
        "\n",
        "    plt.title(numoftime)\n",
        "    numoftime+=1\n",
        "    \n",
        "    plt.imshow(black_src2_save,cmap='gray')    #잡영 제거한 그림 보여주기\n",
        "    plt.show()\n",
        "    plt.imshow(src2_slice_resize)\n",
        "    plt.show()\n",
        "\n",
        "    black_src2_save = cv2.imread(black_background_path, cv2.IMREAD_GRAYSCALE)\n",
        "    black_src2_save = cv2.resize(black_src2_save, dsize=(size_pixel, size_pixel)) # 배경 초기화\n"
      ],
      "execution_count": null,
      "outputs": [
        {
          "output_type": "stream",
          "text": [
            "현재 파일 개수 :::  0 개\n",
            "Image load black_src failed!\n"
          ],
          "name": "stdout"
        },
        {
          "output_type": "error",
          "ename": "SystemExit",
          "evalue": "ignored",
          "traceback": [
            "An exception has occurred, use %tb to see the full traceback.\n",
            "\u001b[0;31mSystemExit\u001b[0m\n"
          ]
        },
        {
          "output_type": "stream",
          "text": [
            "/usr/local/lib/python3.7/dist-packages/IPython/core/interactiveshell.py:2890: UserWarning: To exit: use 'exit', 'quit', or Ctrl-D.\n",
            "  warn(\"To exit: use 'exit', 'quit', or Ctrl-D.\", stacklevel=1)\n"
          ],
          "name": "stderr"
        }
      ]
    },
    {
      "cell_type": "code",
      "metadata": {
        "colab": {
          "base_uri": "https://localhost:8080/"
        },
        "id": "8ZTwFUTKHsdg",
        "outputId": "c791da91-8311-43a2-ea19-cc4e7c4ad052"
      },
      "source": [
        "import numpy as np\n",
        "bb = np.array(bb)\n",
        "bb.shape"
      ],
      "execution_count": null,
      "outputs": [
        {
          "output_type": "execute_result",
          "data": {
            "text/plain": [
              "(120, 120, 3)"
            ]
          },
          "metadata": {
            "tags": []
          },
          "execution_count": 16
        }
      ]
    },
    {
      "cell_type": "code",
      "metadata": {
        "colab": {
          "base_uri": "https://localhost:8080/",
          "height": 519
        },
        "id": "Lzuq6WHYN_cs",
        "outputId": "93d2635b-436d-4d05-cb85-a0f4d0b3d82b"
      },
      "source": [
        "# 하나씩 보기\n",
        "\n",
        "plt.imshow(road_partical[2])\n",
        "plt.show()\n",
        "\n",
        "plt.imshow(road_partical[3])\n",
        "plt.show()\n",
        "\n",
        "\n",
        "# print(np.array(road_partical[1]))"
      ],
      "execution_count": null,
      "outputs": [
        {
          "output_type": "display_data",
          "data": {
            "image/png": "[encoded data removed]",
            "text/plain": [
              "<Figure size 432x288 with 1 Axes>"
            ]
          },
          "metadata": {
            "tags": [],
            "needs_background": "light"
          }
        },
        {
          "output_type": "display_data",
          "data": {
            "image/png": "[encoded data removed]",
            "text/plain": [
              "<Figure size 432x288 with 1 Axes>"
            ]
          },
          "metadata": {
            "tags": [],
            "needs_background": "light"
          }
        }
      ]
    },
    {
      "cell_type": "code",
      "metadata": {
        "colab": {
          "base_uri": "https://localhost:8080/"
        },
        "id": "v9Qc5Ha1dVGD",
        "outputId": "d5fd164f-2348-43ed-95c2-ed8625568827"
      },
      "source": [
        "print(contours_with_filter[2])"
      ],
      "execution_count": null,
      "outputs": [
        {
          "output_type": "stream",
          "text": [
            "[[[77 53]]\n",
            "\n",
            " [[76 54]]\n",
            "\n",
            " [[75 55]]\n",
            "\n",
            " [[75 56]]\n",
            "\n",
            " [[75 57]]\n",
            "\n",
            " [[75 58]]\n",
            "\n",
            " [[75 59]]\n",
            "\n",
            " [[75 60]]\n",
            "\n",
            " [[75 61]]\n",
            "\n",
            " [[75 62]]\n",
            "\n",
            " [[75 63]]\n",
            "\n",
            " [[75 64]]\n",
            "\n",
            " [[75 65]]\n",
            "\n",
            " [[75 66]]\n",
            "\n",
            " [[75 67]]\n",
            "\n",
            " [[76 68]]\n",
            "\n",
            " [[77 68]]\n",
            "\n",
            " [[78 69]]\n",
            "\n",
            " [[79 69]]\n",
            "\n",
            " [[80 69]]\n",
            "\n",
            " [[81 69]]\n",
            "\n",
            " [[82 69]]\n",
            "\n",
            " [[83 69]]\n",
            "\n",
            " [[84 69]]\n",
            "\n",
            " [[85 68]]\n",
            "\n",
            " [[86 67]]\n",
            "\n",
            " [[86 66]]\n",
            "\n",
            " [[86 65]]\n",
            "\n",
            " [[86 64]]\n",
            "\n",
            " [[86 63]]\n",
            "\n",
            " [[85 62]]\n",
            "\n",
            " [[85 61]]\n",
            "\n",
            " [[85 60]]\n",
            "\n",
            " [[85 59]]\n",
            "\n",
            " [[85 58]]\n",
            "\n",
            " [[85 57]]\n",
            "\n",
            " [[84 56]]\n",
            "\n",
            " [[84 55]]\n",
            "\n",
            " [[84 54]]\n",
            "\n",
            " [[83 54]]\n",
            "\n",
            " [[82 54]]\n",
            "\n",
            " [[81 54]]\n",
            "\n",
            " [[80 53]]\n",
            "\n",
            " [[79 54]]\n",
            "\n",
            " [[78 54]]]\n"
          ],
          "name": "stdout"
        }
      ]
    },
    {
      "cell_type": "code",
      "metadata": {
        "colab": {
          "base_uri": "https://localhost:8080/",
          "height": 281
        },
        "id": "DVgiyAVC-U4S",
        "outputId": "02ce4d88-cf39-4c6d-f9f0-4a1cbef6c692"
      },
      "source": [
        "\n",
        "#잡영 제거 O\n",
        "i=0\n",
        "for cnt in contours[:]:\n",
        "    if len(cnt) >=20:       #잡영 크기 조절\n",
        "      cv2.drawContours(black_src2, [cnt], 0, (255, 255, 255), 1)     \n",
        "      i+=1\n",
        "plt.imshow(black_src2)\n",
        "plt.title(i)\n",
        "plt.show()"
      ],
      "execution_count": null,
      "outputs": [
        {
          "output_type": "display_data",
          "data": {
            "image/png": "[encoded data removed]",
            "text/plain": [
              "<Figure size 432x288 with 1 Axes>"
            ]
          },
          "metadata": {
            "tags": [],
            "needs_background": "light"
          }
        }
      ]
    },
    {
      "cell_type": "code",
      "metadata": {
        "colab": {
          "base_uri": "https://localhost:8080/",
          "height": 281
        },
        "id": "faBhXTvQ_A6b",
        "outputId": "2a30053b-cf6a-48b9-b373-2356611e5f47"
      },
      "source": [
        "# 잡영제거 X\n",
        "i=0\n",
        "for cnt in contours[:]:\n",
        "      cv2.drawContours(black_src2, [cnt], 0, (255, 255, 255), 1)     \n",
        "      i+=1\n",
        "plt.imshow(black_src2)\n",
        "plt.title(i)\n",
        "plt.show()"
      ],
      "execution_count": null,
      "outputs": [
        {
          "output_type": "display_data",
          "data": {
            "image/png": "[encoded data removed]",
            "text/plain": [
              "<Figure size 432x288 with 1 Axes>"
            ]
          },
          "metadata": {
            "tags": [],
            "needs_background": "light"
          }
        }
      ]
    },
    {
      "cell_type": "code",
      "metadata": {
        "colab": {
          "base_uri": "https://localhost:8080/"
        },
        "id": "M8x-rBTKt-Um",
        "outputId": "7c8df832-3471-4d02-f279-c3384c4cf8f5"
      },
      "source": [
        "#len(contours)"
      ],
      "execution_count": null,
      "outputs": [
        {
          "output_type": "execute_result",
          "data": {
            "text/plain": [
              "112"
            ]
          },
          "metadata": {
            "tags": []
          },
          "execution_count": 6
        }
      ]
    },
    {
      "cell_type": "code",
      "metadata": {
        "colab": {
          "base_uri": "https://localhost:8080/",
          "height": 513
        },
        "id": "wNcJNNMCmFSj",
        "outputId": "5fd3c676-9f81-4479-bef5-49111cd43c13"
      },
      "source": [
        "import cv2\n",
        "import matplotlib.pyplot as plt\n",
        "import numpy as np\n",
        "\n",
        "data_dir = '/content/xy_049_050_00fe26d0-e5dc-11eb-891f-8c554abddce7.jpg'\n",
        "black_back = np.zeros((120,120,3),np.uint8)\n",
        "\n",
        "plt.imshow(black_back)\n",
        "plt.show()\n",
        "\n",
        "src = cv2.imread(data_dir, cv2.IMREAD_GRAYSCALE) # 그레이 스케일 영상\n",
        "\n",
        "\n",
        "if src is None:\n",
        "    print('Image load failed!')\n",
        "    exit()\n",
        "\n",
        "\n",
        "\n",
        "\n",
        "src = cv2.resize(src, dsize=(120, 120))\n",
        "dst = cv2.Canny(src, 30, 150) # 하단 임계값과 상단 임계값은 실험적으로 결정하기    \n",
        "plt.imshow( dst,cmap='gray')\n",
        "plt.show()\n",
        "cv2.waitKey()\n",
        "\n",
        "cv2.destroyAllWindows()\n",
        "\n",
        "\n",
        "contours, hierarchy = cv2.findContours(dst, cv2.RETR_EXTERNAL, cv2.CHAIN_APPROX_NONE)\n",
        "i=0\n",
        "for cnt in contours:\n",
        "\n",
        "    if len(cnt)>=20:    # 잡영제거\n",
        "        \n",
        "        x,y,w,h = cv2.boundingRect(cnt)   #좌표값\n",
        "\n",
        "\n",
        "        cv2.drawContours(black_back, [cnt], 0, (255, 255, 255), 1) \n",
        "        plt.imshow(black_back,cmap='gray')\n",
        "        plt.title(i)\n",
        "        plt.suptitle(\"length of contours:: {}  :: {}\".format(w,h))\n",
        "        plt.show()\n",
        "        black_back = np.zeros((120,120,3),np.uint8)\n",
        "        print(x,y,w,h)\n",
        "        i+=1"
      ],
      "execution_count": null,
      "outputs": [
        {
          "output_type": "display_data",
          "data": {
            "image/png": "[encoded data removed]",
            "text/plain": [
              "<Figure size 432x288 with 1 Axes>"
            ]
          },
          "metadata": {
            "tags": [],
            "needs_background": "light"
          }
        },
        {
          "output_type": "stream",
          "text": [
            "Image load failed!\n"
          ],
          "name": "stdout"
        },
        {
          "output_type": "error",
          "ename": "error",
          "evalue": "ignored",
          "traceback": [
            "\u001b[0;31m---------------------------------------------------------------------------\u001b[0m",
            "\u001b[0;31merror\u001b[0m                                     Traceback (most recent call last)",
            "\u001b[0;32m<ipython-input-1-93256ed1e144>\u001b[0m in \u001b[0;36m<module>\u001b[0;34m()\u001b[0m\n\u001b[1;32m     19\u001b[0m \u001b[0;34m\u001b[0m\u001b[0m\n\u001b[1;32m     20\u001b[0m \u001b[0;34m\u001b[0m\u001b[0m\n\u001b[0;32m---> 21\u001b[0;31m \u001b[0msrc\u001b[0m \u001b[0;34m=\u001b[0m \u001b[0mcv2\u001b[0m\u001b[0;34m.\u001b[0m\u001b[0mresize\u001b[0m\u001b[0;34m(\u001b[0m\u001b[0msrc\u001b[0m\u001b[0;34m,\u001b[0m \u001b[0mdsize\u001b[0m\u001b[0;34m=\u001b[0m\u001b[0;34m(\u001b[0m\u001b[0;36m120\u001b[0m\u001b[0;34m,\u001b[0m \u001b[0;36m120\u001b[0m\u001b[0;34m)\u001b[0m\u001b[0;34m)\u001b[0m\u001b[0;34m\u001b[0m\u001b[0;34m\u001b[0m\u001b[0m\n\u001b[0m\u001b[1;32m     22\u001b[0m \u001b[0mdst\u001b[0m \u001b[0;34m=\u001b[0m \u001b[0mcv2\u001b[0m\u001b[0;34m.\u001b[0m\u001b[0mCanny\u001b[0m\u001b[0;34m(\u001b[0m\u001b[0msrc\u001b[0m\u001b[0;34m,\u001b[0m \u001b[0;36m30\u001b[0m\u001b[0;34m,\u001b[0m \u001b[0;36m150\u001b[0m\u001b[0;34m)\u001b[0m \u001b[0;31m# 하단 임계값과 상단 임계값은 실험적으로 결정하기\u001b[0m\u001b[0;34m\u001b[0m\u001b[0;34m\u001b[0m\u001b[0m\n\u001b[1;32m     23\u001b[0m \u001b[0mplt\u001b[0m\u001b[0;34m.\u001b[0m\u001b[0mimshow\u001b[0m\u001b[0;34m(\u001b[0m \u001b[0mdst\u001b[0m\u001b[0;34m,\u001b[0m\u001b[0mcmap\u001b[0m\u001b[0;34m=\u001b[0m\u001b[0;34m'gray'\u001b[0m\u001b[0;34m)\u001b[0m\u001b[0;34m\u001b[0m\u001b[0;34m\u001b[0m\u001b[0m\n",
            "\u001b[0;31merror\u001b[0m: OpenCV(4.1.2) /io/opencv/modules/imgproc/src/resize.cpp:3720: error: (-215:Assertion failed) !ssize.empty() in function 'resize'\n"
          ]
        }
      ]
    },
    {
      "cell_type": "code",
      "metadata": {
        "colab": {
          "base_uri": "https://localhost:8080/"
        },
        "id": "YMelhtmRLRKm",
        "outputId": "8a4c460a-79c0-4295-fbfc-88ecdb78a873"
      },
      "source": [
        "cv2.imwrite('/content/photo/road_partical_{}.png'.format(i), src)\n"
      ],
      "execution_count": null,
      "outputs": [
        {
          "output_type": "execute_result",
          "data": {
            "text/plain": [
              "True"
            ]
          },
          "metadata": {
            "tags": []
          },
          "execution_count": 6
        }
      ]
    },
    {
      "cell_type": "code",
      "metadata": {
        "colab": {
          "base_uri": "https://localhost:8080/"
        },
        "id": "Is1EHB6ahui7",
        "outputId": "aea7f37b-9ebf-4c23-bc23-2587f2c75734"
      },
      "source": [
        "import time\n",
        "time.localtime(time.time())"
      ],
      "execution_count": null,
      "outputs": [
        {
          "output_type": "execute_result",
          "data": {
            "text/plain": [
              "time.struct_time(tm_year=2021, tm_mon=7, tm_mday=14, tm_hour=6, tm_min=17, tm_sec=40, tm_wday=2, tm_yday=195, tm_isdst=0)"
            ]
          },
          "metadata": {
            "tags": []
          },
          "execution_count": 13
        }
      ]
    },
    {
      "cell_type": "code",
      "metadata": {
        "id": "vt8BKWAqh4qc",
        "colab": {
          "base_uri": "https://localhost:8080/"
        },
        "outputId": "b7204684-595a-4e3d-be19-206a88c08606"
      },
      "source": [
        "!git clone \"https://github.com/Username0515/image.git\""
      ],
      "execution_count": null,
      "outputs": [
        {
          "output_type": "stream",
          "text": [
            "fatal: destination path 'image' already exists and is not an empty directory.\n"
          ],
          "name": "stdout"
        }
      ]
    }
  ]
}