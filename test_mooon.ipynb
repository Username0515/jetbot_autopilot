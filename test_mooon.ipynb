{
  "nbformat": 4,
  "nbformat_minor": 0,
  "metadata": {
    "colab": {
      "name": "test mooon",
      "provenance": [],
      "authorship_tag": "ABX9TyP1Yqr2ETjcNjsF2XrTT4+A",
      "include_colab_link": true
    },
    "kernelspec": {
      "name": "python3",
      "display_name": "Python 3"
    },
    "language_info": {
      "name": "python"
    }
  },
  "cells": [
    {
      "cell_type": "markdown",
      "metadata": {
        "id": "view-in-github",
        "colab_type": "text"
      },
      "source": [
        "<a href=\"https://colab.research.google.com/github/Username0515/jetbot_autopilot/blob/main/test_mooon.ipynb\" target=\"_parent\"><img src=\"https://colab.research.google.com/assets/colab-badge.svg\" alt=\"Open In Colab\"/></a>"
      ]
    },
    {
      "cell_type": "code",
      "metadata": {
        "id": "4InFEuzQGF6w"
      },
      "source": [
        "a = [ \n",
        "[\"중생동물문\", \"Mesozoa\"] ,\n",
        "[\"해면동물문\",\"Porifera\"] ,\n",
        "[\"판형동물문\",\"Placozoa\"],\n",
        "[\"자포동물문\",\"cnidaria\"],\n",
        "[\"유즐동물문\",\"Ctenophora\"],\n",
        "[\"편형동물문\",\"Platyhelminthes\"],\n",
        "[\"유형동물문\",\"nemertea\"],\n",
        "[\"악구동물문\",\"Gnathostomulida\"],  \n",
        "[\"구륜동물문\",\"Cycliophora\"] ,\n",
        "[\"윤형동물문\",\"Rotifera\"],\n",
        "[\"복모동물문\",\"Gastrotricha\"],\n",
        "[\"동문동물문\",\"Kinorhyncha\"],\n",
        "[\"선형동물문\",\"Nematoda\"],\n",
        "[\"유선형동물문\",\"Nematomopha\"],  \n",
        "[\"구두동물문\",\"Acanthocephala\"],  \n",
        "[\"내항동물문\",\"Entoprocta\"]  ,\n",
        "[\"새예동물문\",\"Priapulida\"]  ,\n",
        "[\"동갑동물문\",\"Loricifera\"] ,\n",
        "[\"연체동물문\",\"Mollusca\"] ,\n",
        "[\"환형동물문\",\"Annelida\"],\n",
        "[\"절지동물문\",\"Apthropoda\"], \n",
        "[\"의충동물문\",\"Echiurida\"] ,\n",
        "[\"성구동물문\",\"sipunculida\"],  \n",
        "[\"완보동물문\",\"Tardigrada\"]  ,\n",
        "[\"오구동물문\",\"Pentastomida\"] , \n",
        "[\"유조동물문\",\"Onychophora\"]  ,\n",
        "[\"유수동물문\",\"Pogonophora\"]  ,\n",
        "[\"추형동물문\",\"Phoronida\"]  ,\n",
        "[\"태형동물문\",\"Bryozoa\"]  ,\n",
        "[\"완족동물문\",\"Brachiopoda\"],  \n",
        "[\"모악동물문\",\"Chaetognatha\"], \n",
        "[\"극피동물문\",\"Echinodermata\"], \n",
        "[\"반삭동물문\",\"Hemichordata\"],\n",
        "[\"척삭동물문\",\"Chordata\"]]"
      ],
      "execution_count": 1,
      "outputs": []
    },
    {
      "cell_type": "code",
      "metadata": {
        "colab": {
          "base_uri": "https://localhost:8080/"
        },
        "id": "HgtobMzWIXG-",
        "outputId": "1a89da67-1493-408b-8d9c-bf4c07af3b6b"
      },
      "source": [
        "import numpy as np\n",
        "a= np.array(a)\n",
        "\n",
        "from sklearn.utils import shuffle\n",
        "from random import shuffle \n",
        "new_a = []\n",
        "for i in a:\n",
        "  new_a.append(i)\n",
        "\n",
        "\n",
        "shuffle(new_a)\n",
        "for ii, sublist in enumerate(new_a): \n",
        "    shuffle(new_a[ii])\n",
        "new_a= np.array(new_a)"
      ],
      "execution_count": 2,
      "outputs": [
        {
          "output_type": "stream",
          "name": "stdout",
          "text": [
            "[['Bryozoa' '태형동물문']\n",
            " ['중생동물문' 'Mesozoa']\n",
            " ['성구동물문' 'sipunculida']\n",
            " ['Chordata' '척삭동물문']\n",
            " ['Nematomopha' '유선형동물문']\n",
            " ['편형동물문' 'Platyhelminthes']\n",
            " ['해면동물문' 'Porifera']\n",
            " ['구두동물문' 'Acanthocephala']\n",
            " ['의충동물문' 'Echiurida']\n",
            " ['오구동물문' 'Pentastomida']\n",
            " ['Nematoda' '선형동물문']\n",
            " ['판형동물문' 'Placozoa']\n",
            " ['Ctenophora' '유즐동물문']\n",
            " ['악구동물문' 'Gnathostomulida']\n",
            " ['Brachiopoda' '완족동물문']\n",
            " ['Pogonophora' '유수동물문']\n",
            " ['Chaetognatha' '모악동물문']\n",
            " ['절지동물문' 'Apthropoda']\n",
            " ['극피동물문' 'Echinodermata']\n",
            " ['Annelida' '환형동물문']\n",
            " ['Onychophora' '유조동물문']\n",
            " ['cnidaria' '자포동물문']\n",
            " ['Phoronida' '추형동물문']\n",
            " ['Hemichordata' '반삭동물문']\n",
            " ['윤형동물문' 'Rotifera']\n",
            " ['새예동물문' 'Priapulida']\n",
            " ['동문동물문' 'Kinorhyncha']\n",
            " ['Loricifera' '동갑동물문']\n",
            " ['Mollusca' '연체동물문']\n",
            " ['Tardigrada' '완보동물문']\n",
            " ['Cycliophora' '구륜동물문']\n",
            " ['Gastrotricha' '복모동물문']\n",
            " ['유형동물문' 'nemertea']\n",
            " ['내항동물문' 'Entoprocta']]\n"
          ]
        }
      ]
    },
    {
      "cell_type": "code",
      "metadata": {
        "id": "D5BUWU4rOSRk"
      },
      "source": [
        ""
      ],
      "execution_count": 2,
      "outputs": []
    },
    {
      "cell_type": "code",
      "metadata": {
        "colab": {
          "base_uri": "https://localhost:8080/",
          "height": 756
        },
        "id": "-Uk8kwQhJRnU",
        "outputId": "a023c043-27d3-4804-808f-3f61a74f197b"
      },
      "source": [
        "for num,data in enumerate(new_a):\n",
        "  print(data[0],\"는?\")\n",
        "  input_data = input()\n",
        "  if input_data== data[1]:\n",
        "    print(\"맞음\")\n",
        "  else:\n",
        "    print(\"틀림\")"
      ],
      "execution_count": 3,
      "outputs": [
        {
          "output_type": "stream",
          "name": "stdout",
          "text": [
            "Bryozoa 을 한글로\n",
            "태형동물문\n",
            "맞음\n",
            "중생동물문 을 한글로\n",
            "Mesozoa\n",
            "맞음\n",
            "성구동물문 을 한글로\n",
            "sipunculida\n",
            "맞음\n",
            "Chordata 을 한글로\n"
          ]
        },
        {
          "output_type": "error",
          "ename": "KeyboardInterrupt",
          "evalue": "ignored",
          "traceback": [
            "\u001b[0;31m---------------------------------------------------------------------------\u001b[0m",
            "\u001b[0;31mKeyboardInterrupt\u001b[0m                         Traceback (most recent call last)",
            "\u001b[0;32m/usr/local/lib/python3.7/dist-packages/ipykernel/kernelbase.py\u001b[0m in \u001b[0;36m_input_request\u001b[0;34m(self, prompt, ident, parent, password)\u001b[0m\n\u001b[1;32m    728\u001b[0m             \u001b[0;32mtry\u001b[0m\u001b[0;34m:\u001b[0m\u001b[0;34m\u001b[0m\u001b[0;34m\u001b[0m\u001b[0m\n\u001b[0;32m--> 729\u001b[0;31m                 \u001b[0mident\u001b[0m\u001b[0;34m,\u001b[0m \u001b[0mreply\u001b[0m \u001b[0;34m=\u001b[0m \u001b[0mself\u001b[0m\u001b[0;34m.\u001b[0m\u001b[0msession\u001b[0m\u001b[0;34m.\u001b[0m\u001b[0mrecv\u001b[0m\u001b[0;34m(\u001b[0m\u001b[0mself\u001b[0m\u001b[0;34m.\u001b[0m\u001b[0mstdin_socket\u001b[0m\u001b[0;34m,\u001b[0m \u001b[0;36m0\u001b[0m\u001b[0;34m)\u001b[0m\u001b[0;34m\u001b[0m\u001b[0;34m\u001b[0m\u001b[0m\n\u001b[0m\u001b[1;32m    730\u001b[0m             \u001b[0;32mexcept\u001b[0m \u001b[0mException\u001b[0m\u001b[0;34m:\u001b[0m\u001b[0;34m\u001b[0m\u001b[0;34m\u001b[0m\u001b[0m\n",
            "\u001b[0;32m/usr/local/lib/python3.7/dist-packages/jupyter_client/session.py\u001b[0m in \u001b[0;36mrecv\u001b[0;34m(self, socket, mode, content, copy)\u001b[0m\n\u001b[1;32m    802\u001b[0m         \u001b[0;32mtry\u001b[0m\u001b[0;34m:\u001b[0m\u001b[0;34m\u001b[0m\u001b[0;34m\u001b[0m\u001b[0m\n\u001b[0;32m--> 803\u001b[0;31m             \u001b[0mmsg_list\u001b[0m \u001b[0;34m=\u001b[0m \u001b[0msocket\u001b[0m\u001b[0;34m.\u001b[0m\u001b[0mrecv_multipart\u001b[0m\u001b[0;34m(\u001b[0m\u001b[0mmode\u001b[0m\u001b[0;34m,\u001b[0m \u001b[0mcopy\u001b[0m\u001b[0;34m=\u001b[0m\u001b[0mcopy\u001b[0m\u001b[0;34m)\u001b[0m\u001b[0;34m\u001b[0m\u001b[0;34m\u001b[0m\u001b[0m\n\u001b[0m\u001b[1;32m    804\u001b[0m         \u001b[0;32mexcept\u001b[0m \u001b[0mzmq\u001b[0m\u001b[0;34m.\u001b[0m\u001b[0mZMQError\u001b[0m \u001b[0;32mas\u001b[0m \u001b[0me\u001b[0m\u001b[0;34m:\u001b[0m\u001b[0;34m\u001b[0m\u001b[0;34m\u001b[0m\u001b[0m\n",
            "\u001b[0;32m/usr/local/lib/python3.7/dist-packages/zmq/sugar/socket.py\u001b[0m in \u001b[0;36mrecv_multipart\u001b[0;34m(self, flags, copy, track)\u001b[0m\n\u001b[1;32m    624\u001b[0m         \"\"\"\n\u001b[0;32m--> 625\u001b[0;31m         \u001b[0mparts\u001b[0m \u001b[0;34m=\u001b[0m \u001b[0;34m[\u001b[0m\u001b[0mself\u001b[0m\u001b[0;34m.\u001b[0m\u001b[0mrecv\u001b[0m\u001b[0;34m(\u001b[0m\u001b[0mflags\u001b[0m\u001b[0;34m,\u001b[0m \u001b[0mcopy\u001b[0m\u001b[0;34m=\u001b[0m\u001b[0mcopy\u001b[0m\u001b[0;34m,\u001b[0m \u001b[0mtrack\u001b[0m\u001b[0;34m=\u001b[0m\u001b[0mtrack\u001b[0m\u001b[0;34m)\u001b[0m\u001b[0;34m]\u001b[0m\u001b[0;34m\u001b[0m\u001b[0;34m\u001b[0m\u001b[0m\n\u001b[0m\u001b[1;32m    626\u001b[0m         \u001b[0;31m# have first part already, only loop while more to receive\u001b[0m\u001b[0;34m\u001b[0m\u001b[0;34m\u001b[0m\u001b[0;34m\u001b[0m\u001b[0m\n",
            "\u001b[0;32mzmq/backend/cython/socket.pyx\u001b[0m in \u001b[0;36mzmq.backend.cython.socket.Socket.recv\u001b[0;34m()\u001b[0m\n",
            "\u001b[0;32mzmq/backend/cython/socket.pyx\u001b[0m in \u001b[0;36mzmq.backend.cython.socket.Socket.recv\u001b[0;34m()\u001b[0m\n",
            "\u001b[0;32mzmq/backend/cython/socket.pyx\u001b[0m in \u001b[0;36mzmq.backend.cython.socket._recv_copy\u001b[0;34m()\u001b[0m\n",
            "\u001b[0;32m/usr/local/lib/python3.7/dist-packages/zmq/backend/cython/checkrc.pxd\u001b[0m in \u001b[0;36mzmq.backend.cython.checkrc._check_rc\u001b[0;34m()\u001b[0m\n",
            "\u001b[0;31mKeyboardInterrupt\u001b[0m: ",
            "\nDuring handling of the above exception, another exception occurred:\n",
            "\u001b[0;31mKeyboardInterrupt\u001b[0m                         Traceback (most recent call last)",
            "\u001b[0;32m<ipython-input-3-95f4045fd44f>\u001b[0m in \u001b[0;36m<module>\u001b[0;34m()\u001b[0m\n\u001b[1;32m      1\u001b[0m \u001b[0;32mfor\u001b[0m \u001b[0mnum\u001b[0m\u001b[0;34m,\u001b[0m\u001b[0mdata\u001b[0m \u001b[0;32min\u001b[0m \u001b[0menumerate\u001b[0m\u001b[0;34m(\u001b[0m\u001b[0mnew_a\u001b[0m\u001b[0;34m)\u001b[0m\u001b[0;34m:\u001b[0m\u001b[0;34m\u001b[0m\u001b[0;34m\u001b[0m\u001b[0m\n\u001b[1;32m      2\u001b[0m   \u001b[0mprint\u001b[0m\u001b[0;34m(\u001b[0m\u001b[0mdata\u001b[0m\u001b[0;34m[\u001b[0m\u001b[0;36m0\u001b[0m\u001b[0;34m]\u001b[0m\u001b[0;34m,\u001b[0m\u001b[0;34m\"을 한글로\"\u001b[0m\u001b[0;34m)\u001b[0m\u001b[0;34m\u001b[0m\u001b[0;34m\u001b[0m\u001b[0m\n\u001b[0;32m----> 3\u001b[0;31m   \u001b[0minput_data\u001b[0m \u001b[0;34m=\u001b[0m \u001b[0minput\u001b[0m\u001b[0;34m(\u001b[0m\u001b[0;34m)\u001b[0m\u001b[0;34m\u001b[0m\u001b[0;34m\u001b[0m\u001b[0m\n\u001b[0m\u001b[1;32m      4\u001b[0m   \u001b[0;32mif\u001b[0m \u001b[0minput_data\u001b[0m\u001b[0;34m==\u001b[0m \u001b[0mdata\u001b[0m\u001b[0;34m[\u001b[0m\u001b[0;36m1\u001b[0m\u001b[0;34m]\u001b[0m\u001b[0;34m:\u001b[0m\u001b[0;34m\u001b[0m\u001b[0;34m\u001b[0m\u001b[0m\n\u001b[1;32m      5\u001b[0m     \u001b[0mprint\u001b[0m\u001b[0;34m(\u001b[0m\u001b[0;34m\"맞음\"\u001b[0m\u001b[0;34m)\u001b[0m\u001b[0;34m\u001b[0m\u001b[0;34m\u001b[0m\u001b[0m\n",
            "\u001b[0;32m/usr/local/lib/python3.7/dist-packages/ipykernel/kernelbase.py\u001b[0m in \u001b[0;36mraw_input\u001b[0;34m(self, prompt)\u001b[0m\n\u001b[1;32m    702\u001b[0m             \u001b[0mself\u001b[0m\u001b[0;34m.\u001b[0m\u001b[0m_parent_ident\u001b[0m\u001b[0;34m,\u001b[0m\u001b[0;34m\u001b[0m\u001b[0;34m\u001b[0m\u001b[0m\n\u001b[1;32m    703\u001b[0m             \u001b[0mself\u001b[0m\u001b[0;34m.\u001b[0m\u001b[0m_parent_header\u001b[0m\u001b[0;34m,\u001b[0m\u001b[0;34m\u001b[0m\u001b[0;34m\u001b[0m\u001b[0m\n\u001b[0;32m--> 704\u001b[0;31m             \u001b[0mpassword\u001b[0m\u001b[0;34m=\u001b[0m\u001b[0;32mFalse\u001b[0m\u001b[0;34m,\u001b[0m\u001b[0;34m\u001b[0m\u001b[0;34m\u001b[0m\u001b[0m\n\u001b[0m\u001b[1;32m    705\u001b[0m         )\n\u001b[1;32m    706\u001b[0m \u001b[0;34m\u001b[0m\u001b[0m\n",
            "\u001b[0;32m/usr/local/lib/python3.7/dist-packages/ipykernel/kernelbase.py\u001b[0m in \u001b[0;36m_input_request\u001b[0;34m(self, prompt, ident, parent, password)\u001b[0m\n\u001b[1;32m    732\u001b[0m             \u001b[0;32mexcept\u001b[0m \u001b[0mKeyboardInterrupt\u001b[0m\u001b[0;34m:\u001b[0m\u001b[0;34m\u001b[0m\u001b[0;34m\u001b[0m\u001b[0m\n\u001b[1;32m    733\u001b[0m                 \u001b[0;31m# re-raise KeyboardInterrupt, to truncate traceback\u001b[0m\u001b[0;34m\u001b[0m\u001b[0;34m\u001b[0m\u001b[0;34m\u001b[0m\u001b[0m\n\u001b[0;32m--> 734\u001b[0;31m                 \u001b[0;32mraise\u001b[0m \u001b[0mKeyboardInterrupt\u001b[0m\u001b[0;34m\u001b[0m\u001b[0;34m\u001b[0m\u001b[0m\n\u001b[0m\u001b[1;32m    735\u001b[0m             \u001b[0;32melse\u001b[0m\u001b[0;34m:\u001b[0m\u001b[0;34m\u001b[0m\u001b[0;34m\u001b[0m\u001b[0m\n\u001b[1;32m    736\u001b[0m                 \u001b[0;32mbreak\u001b[0m\u001b[0;34m\u001b[0m\u001b[0;34m\u001b[0m\u001b[0m\n",
            "\u001b[0;31mKeyboardInterrupt\u001b[0m: "
          ]
        }
      ]
    },
    {
      "cell_type": "code",
      "metadata": {
        "id": "gSmPCieFObJL"
      },
      "source": [
        ""
      ],
      "execution_count": null,
      "outputs": []
    }
  ]
}